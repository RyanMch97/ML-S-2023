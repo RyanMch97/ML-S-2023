{
 "cells": [
  {
   "cell_type": "code",
   "execution_count": 1,
   "metadata": {},
   "outputs": [
    {
     "name": "stdout",
     "output_type": "stream",
     "text": [
      "The square root of 25.0 is approximately 5.000000000016778\n"
     ]
    }
   ],
   "source": [
    "def sqrt(x):\n",
    "\n",
    "    z0 = x / 2.0\n",
    "\n",
    "    # Threshold\n",
    "    threshold = 0.01\n",
    "\n",
    " \n",
    "    while True:\n",
    "        # Newton's formula\n",
    "        z1 = z0 - (z0 * z0 - x) / (2 * z0)\n",
    "\n",
    "       \n",
    "        if abs(z1 - z0) < threshold:\n",
    "            break\n",
    "\n",
    "        # Update the guess for the next iteration\n",
    "        z0 = z1\n",
    "\n",
    "    return z1\n",
    "\n",
    "# Example Test\n",
    "number = 25.0 \n",
    "result = sqrt(number)\n",
    "print(f\"The square root of {number} is approximately {result}\")\n"
   ]
  },
  {
   "cell_type": "markdown",
   "metadata": {},
   "source": [
    "Task 2"
   ]
  },
  {
   "cell_type": "code",
   "execution_count": 2,
   "metadata": {},
   "outputs": [
    {
     "name": "stdout",
     "output_type": "stream",
     "text": [
      "Chi-squared value: 2.6359100836554257\n",
      "P-value: 0.10447218120907394\n"
     ]
    }
   ],
   "source": [
    "import scipy.stats as stats\n",
    "\n",
    "# Observed frequencies\n",
    "observed = [[57, 45],\n",
    "            [43, 56]]\n",
    "\n",
    "chi2, p, _, _ = stats.chi2_contingency(observed)\n",
    "\n",
    "print(f\"Chi-squared value: {chi2}\")\n",
    "print(f\"P-value: {p}\")\n"
   ]
  },
  {
   "cell_type": "markdown",
   "metadata": {},
   "source": [
    "Task 3"
   ]
  },
  {
   "cell_type": "code",
   "execution_count": 3,
   "metadata": {},
   "outputs": [
    {
     "name": "stdout",
     "output_type": "stream",
     "text": [
      "T-statistic: 14.761368414543291\n",
      "P-value: 1.8677596749117468e-28\n",
      "There is evidence of a significant difference in body mass between male and female Gentoo penguins.\n"
     ]
    }
   ],
   "source": [
    "import pandas as pd\n",
    "from scipy.stats import ttest_ind\n",
    "\n",
    "# Load the penguins dataset\n",
    "URL = \"https://raw.githubusercontent.com/mwaskom/seaborn-data/master/penguins.csv\"\n",
    "penguins_df = pd.read_csv(URL)\n",
    "\n",
    "# Filterfor Gentoo penguins\n",
    "gentoo_df = penguins_df[penguins_df['species'] == 'Gentoo']\n",
    "\n",
    "# Separation by Gender\n",
    "male_body_mass = gentoo_df[gentoo_df['sex'] == 'MALE']['body_mass_g']\n",
    "female_body_mass = gentoo_df[gentoo_df['sex'] == 'FEMALE']['body_mass_g']\n",
    "\n",
    "# Perform t-test\n",
    "t_stat, p_value = ttest_ind(male_body_mass, female_body_mass, equal_var=False)\n",
    "\n",
    "# Print results\n",
    "print(f\"T-statistic: {t_stat}\")\n",
    "print(f\"P-value: {p_value}\")\n",
    "\n",
    "# Interpret the results\n",
    "if p_value < 0.05:\n",
    "    print(\"There is evidence of a significant difference in body mass between male and female Gentoo penguins.\")\n",
    "else:\n",
    "    print(\"There is no significant difference in body mass between male and female Gentoo penguins.\")\n"
   ]
  }
 ],
 "metadata": {
  "kernelspec": {
   "display_name": "base",
   "language": "python",
   "name": "python3"
  },
  "language_info": {
   "codemirror_mode": {
    "name": "ipython",
    "version": 3
   },
   "file_extension": ".py",
   "mimetype": "text/x-python",
   "name": "python",
   "nbconvert_exporter": "python",
   "pygments_lexer": "ipython3",
   "version": "3.9.13"
  }
 },
 "nbformat": 4,
 "nbformat_minor": 2
}
