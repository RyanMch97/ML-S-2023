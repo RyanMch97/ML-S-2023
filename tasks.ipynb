{
 "cells": [
  {
   "cell_type": "code",
   "execution_count": 1,
   "metadata": {},
   "outputs": [
    {
     "name": "stdout",
     "output_type": "stream",
     "text": [
      "The square root of 25.0 is approximately 5.000000000016778\n"
     ]
    }
   ],
   "source": [
    "def sqrt(x):\n",
    "    # Initial guess\n",
    "    z0 = x / 2.0\n",
    "\n",
    "    # Define the threshold\n",
    "    threshold = 0.01\n",
    "\n",
    "    # Iterate until the difference between consecutive guesses is less than the threshold\n",
    "    while True:\n",
    "        # Newton's method formula to improve the guess\n",
    "        z1 = 0.5 * (z0 + x / z0)\n",
    "\n",
    "        # Check if the difference is less than the threshold\n",
    "        if abs(z1 - z0) < threshold:\n",
    "            break\n",
    "\n",
    "        # Update the guess for the next iteration\n",
    "        z0 = z1\n",
    "\n",
    "    return z1\n",
    "\n",
    "# Example usage\n",
    "number = 25.0  # Replace with the desired floating-point number\n",
    "result = sqrt(number)\n",
    "print(f\"The square root of {number} is approximately {result}\")"
   ]
  }
 ],
 "metadata": {
  "kernelspec": {
   "display_name": "base",
   "language": "python",
   "name": "python3"
  },
  "language_info": {
   "codemirror_mode": {
    "name": "ipython",
    "version": 3
   },
   "file_extension": ".py",
   "mimetype": "text/x-python",
   "name": "python",
   "nbconvert_exporter": "python",
   "pygments_lexer": "ipython3",
   "version": "3.9.13"
  }
 },
 "nbformat": 4,
 "nbformat_minor": 2
}
